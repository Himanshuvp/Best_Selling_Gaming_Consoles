{
 "cells": [
  {
   "cell_type": "markdown",
   "metadata": {},
   "source": [
    "<div align=\"center\">\n",
    "    <h1>Sony Wins the Console Wars but Nintendo is the Gaming Industry King:</h1>\n",
    "    <h2>Basic Statistics Using Pandas, Numpy and Matplotlib</h2>\n",
    "    <img src=\"https://d1lss44hh2trtw.cloudfront.net/assets/article/2020/09/17/console-wars_feature.jpg\" />\n",
    "</div>\n",
    "<h3>Overview</h3>\n",
    "<p>\n",
    "    The Best Selling Game consoles of all time is a small but interesting dataset for practicing statistics. We can use the console sells to finally settle the age old question, who is the champion of the console wars. When people talk about the console wars, they mainly are focusing on the home console market. In this notebook, we will go over basic statisical concepts and how to visualize your data. I try to avoid making any assumptions based on my knowledge of the gaming industry and focus solely on the data. We wont go too deep into pandas, numpy or matplotlib functions, but I will do my best to explain the reasoning for why i used certain functions. If you want more information, you should use the documents for these packages.\n",
    "       "
   ]
  },
  {
   "cell_type": "markdown",
   "metadata": {},
   "source": [
    "To start, let's view the first 5 rows of table using the `head()` function. This will reveal the Panda's dataframes first 5 rows by default."
   ]
  },
  {
   "cell_type": "code",
   "execution_count": null,
   "metadata": {
    "execution": {
     "iopub.execute_input": "2023-04-17T03:18:13.769395Z",
     "iopub.status.busy": "2023-04-17T03:18:13.768924Z",
     "iopub.status.idle": "2023-04-17T03:18:13.802571Z",
     "shell.execute_reply": "2023-04-17T03:18:13.80142Z",
     "shell.execute_reply.started": "2023-04-17T03:18:13.769356Z"
    }
   },
   "outputs": [],
   "source": [
    "import pandas as pd\n",
    "import numpy as np\n",
    "df = pd.read_csv('/kaggle/input/best-selling-game-consoles-of-all-time/best-selling game consoles.csv')\n",
    "df.head()"
   ]
  },
  {
   "cell_type": "markdown",
   "metadata": {},
   "source": [
    "# Mean and Standard Deviation\n",
    "We can get general stastical information rather easily using `describe()`. Describe will give us information for every column, but we want to get information for each company's unit sells to make the data meaningful.\n",
    "The `groupby()` function will help us group all the data by the column *Company*. Let's get the statistics for the *Units sold (million)* column. <br><br>"
   ]
  },
  {
   "cell_type": "code",
   "execution_count": null,
   "metadata": {
    "execution": {
     "iopub.execute_input": "2023-04-17T03:18:13.805776Z",
     "iopub.status.busy": "2023-04-17T03:18:13.80501Z",
     "iopub.status.idle": "2023-04-17T03:18:13.864693Z",
     "shell.execute_reply": "2023-04-17T03:18:13.863683Z",
     "shell.execute_reply.started": "2023-04-17T03:18:13.805732Z"
    }
   },
   "outputs": [],
   "source": [
    "units_by_company_described = df.groupby('Company')['Units sold (million)'].describe()\n",
    "units_by_company_described['std'] = units_by_company_described['std'].fillna(0)\n",
    "units_by_company_described"
   ]
  },
  {
   "cell_type": "markdown",
   "metadata": {},
   "source": [
    "It's cool to see Sony has some of the largest sales data based solely on mean and percentages which refer to quartiles. The mean is the average value over a set of values. To get comfortable with math notation, let's see the equation for the mean.\n",
    "$$\\bar{x} = \\frac{1}{n} \\sum_{i=1}^{n} x_i$$\n",
    "The bar over x (x_bar) is the mean. (∑) Sigma represents the sum over a set of values, in this case x_i (x_i will be the units sold per console in our case). So this means we are taking the sum of all units_sold for a company and dividing by (n) the number of consoles for each company. But be carefuly when using the mean. The mean for all these companies could potentially be off due to outliers such as low sales for a failed console or a highly successful console.<br><br>\n",
    "A quartile is essentially a range of 4 sets of data divided based on the mean. The mean serves as the midpoint for the dividing line. The 50% will essentially be closest to the mean. 25% will be the midpoint between the start and the mean. 75% will be the mean between 50% and the highest point. Based on these quartiles, we can see how far the spread is between these ranges.<br><br>"
   ]
  },
  {
   "cell_type": "markdown",
   "metadata": {},
   "source": [
    "Another way to check the spread of data is by using standard deviation (std). The standard deviation shows the distribution of sells data and how spread out the data is. Standard deviation is actually the same thing as something called variance, execpt it is the square root of variance. For example, Although Sony appears to have higher sales, the standard deviation is the highest, revealing that there may be large inconsistencies in sales. Sega and Coleco have the smallest deviations, showing they may have more consistent track records in sales. Here is the formula for standard deviation:<br><br>\n",
    "$$s = \\sqrt{\\frac{1}{n-1} \\sum_{i=1}^{n} (x_i - \\bar{x})^2}$$\n",
    "Remember x_bar is the mean. All this equation is saying is we are taking the sum all the differences from a console's *units_sold* (x) and the mean (x_bar) squared. We then divide the sum by (n) the number of console units_sold - 1 and take the sqaure root of this result. If we didn't take the square root it would be the variance. The reason we dont divide compleletly by (n) is because this would represent a biased view of the data sampled (known as population sample). So we subtract 1 to get an unbiased estimate of the sample.<br><br>\n",
    "\n",
    ">Quick Note! I used the fillna() function to replace all NaN values for standard deviation (std) with 0's. A 0 standard deviation means that there was no deviation or the deviation was so small it resulted in a zero division error."
   ]
  },
  {
   "cell_type": "markdown",
   "metadata": {},
   "source": [
    "# Restructuring a Dataframe\n",
    "The data needs a bit of cleanup. It would be easier to simplify the column names for later statistical calculations. We use the Panda's function `rename()` with the key *columns* to rename each column. We also use `drop()` to remove the *Remarks* column since it doesn't provide information that will help calculate stats. The keyword argument `axis=1` allows us to specify a column deletion."
   ]
  },
  {
   "cell_type": "code",
   "execution_count": null,
   "metadata": {
    "execution": {
     "iopub.execute_input": "2023-04-17T03:18:13.867118Z",
     "iopub.status.busy": "2023-04-17T03:18:13.866372Z",
     "iopub.status.idle": "2023-04-17T03:18:13.885512Z",
     "shell.execute_reply": "2023-04-17T03:18:13.884266Z",
     "shell.execute_reply.started": "2023-04-17T03:18:13.867077Z"
    }
   },
   "outputs": [],
   "source": [
    "# Rename columns\n",
    "df = df.rename(columns={\n",
    "    'Console Name': 'console',\n",
    "    'Type': 'type',\n",
    "    'Company': 'company',\n",
    "    'Released Year': 'release_year',\n",
    "    'Discontinuation Year': 'discontinue_year',\n",
    "    'Units sold (million)': 'units_sold',\n",
    "    'Remarks': 'remarks'\n",
    "})\n",
    "# Drop the Remarks column\n",
    "df = df.drop('remarks', axis=1)\n",
    "df.head()"
   ]
  },
  {
   "cell_type": "markdown",
   "metadata": {},
   "source": [
    "### Creating a Decade Column\n",
    "Let's add an additional column to later process information by each decade. We found that the standard deviation over sold units is not applicable across the entire span of the gaming industry timeline. However, if we break the data down by decades, we can get a deeper glimpse into which companies were dominating in specific eras of gaming history. We use the `apply()` function to subtract the last digit from every release year in our Panda's dataframe."
   ]
  },
  {
   "cell_type": "code",
   "execution_count": null,
   "metadata": {
    "execution": {
     "iopub.execute_input": "2023-04-17T03:18:13.887632Z",
     "iopub.status.busy": "2023-04-17T03:18:13.887211Z",
     "iopub.status.idle": "2023-04-17T03:18:13.906832Z",
     "shell.execute_reply": "2023-04-17T03:18:13.905723Z",
     "shell.execute_reply.started": "2023-04-17T03:18:13.887593Z"
    }
   },
   "outputs": [],
   "source": [
    "# Add a new decade column\n",
    "df['decade'] = df['release_year'].apply(lambda x: x - x % 10)\n",
    "df.head()"
   ]
  },
  {
   "cell_type": "markdown",
   "metadata": {},
   "source": [
    "# Top 3 Companies\n",
    "We can sum up the *units_sold* for every company using Panda's `groupby()` function. After the group of companies are collected, we can call the `sum()` function to add up all sold units for each individual company. Based on the total units sold, we can see who are the dominating figures in the industry. Nintendo, Sony and Microsoft seem to be the top 3 companies."
   ]
  },
  {
   "cell_type": "code",
   "execution_count": null,
   "metadata": {
    "execution": {
     "iopub.execute_input": "2023-04-17T03:18:13.910234Z",
     "iopub.status.busy": "2023-04-17T03:18:13.909057Z",
     "iopub.status.idle": "2023-04-17T03:18:14.197644Z",
     "shell.execute_reply": "2023-04-17T03:18:14.196173Z",
     "shell.execute_reply.started": "2023-04-17T03:18:13.910187Z"
    }
   },
   "outputs": [],
   "source": [
    "import matplotlib.pyplot as plt\n",
    "total_units_sold_by_company = df.groupby('company')['units_sold'].sum()\n",
    "total_units_sold_by_company = total_units_sold_by_company.sort_values(ascending=False)\n",
    "y = total_units_sold_by_company.to_numpy()\n",
    "x = np.arange(len(y))\n",
    "plt.bar(x, y)\n",
    "plt.xticks(x, total_units_sold_by_company.keys(), rotation=75)\n",
    "plt.title('Total Units Sold By Company')\n",
    "plt.xlabel('Company')\n",
    "plt.ylabel('Units Sold in Millions')\n",
    "plt.show()"
   ]
  },
  {
   "cell_type": "markdown",
   "metadata": {},
   "source": [
    "### Market Share\n",
    "We can use the market share formula to check which companies are the most dominate forces in the game industry. The forumla is simply the total *units_sold* (x) for a company divided by the total *units_sold* for all companies.\n",
    "$$\n",
    "\\frac{x_i}{\\sum_{j=1}^{n} x_j}\n",
    "$$\n",
    "Again, (∑) Represents the sum of all companies sold units. Just like a for loop, *j* represents the index of the company in companies of *n* length. Instead of a for loop, we can use the `sum()` to take care of summing up all the sold units across all rows in our table and save it to *total_units_sold*. We can use the previous variable *total_units_sold_by_company* to take the total units sold for each company and divide it by the overall sum *total_units_sold*.<br><br>\n",
    "I don't want show every company in a pie chart, because most companies take up tiny percentage of the market. We filter out the top 5 companies and sum up the rest as *other* in our chart for clarity."
   ]
  },
  {
   "cell_type": "code",
   "execution_count": null,
   "metadata": {
    "execution": {
     "iopub.execute_input": "2023-04-17T03:18:14.199478Z",
     "iopub.status.busy": "2023-04-17T03:18:14.199059Z",
     "iopub.status.idle": "2023-04-17T03:18:14.409896Z",
     "shell.execute_reply": "2023-04-17T03:18:14.407575Z",
     "shell.execute_reply.started": "2023-04-17T03:18:14.199418Z"
    }
   },
   "outputs": [],
   "source": [
    "total_units_sold = df['units_sold'].sum()\n",
    "market_shares = total_units_sold_by_company.to_numpy() * (total_units_sold ** -1)\n",
    "top_companies_shares = market_shares[:5]\n",
    "# Combines all smaller companies as one value\n",
    "other_companies_shares = np.array([market_shares[5:].sum()])\n",
    "# Creates a single numpy array from two arrays\n",
    "market_shares = np.concatenate((top_companies_shares, other_companies_shares))\n",
    "\n",
    "top_selling_companies = df.groupby('company')['units_sold'].sum().sort_values(ascending=False)\n",
    "top_five_companies = top_selling_companies.keys()[:5]\n",
    "top_companies_labels = np.concatenate((top_five_companies, np.array(['Other'])))\n",
    "\n",
    "plt.pie(market_shares, autopct='%1.f%%')\n",
    "plt.legend(top_companies_labels, title='Companies', loc='center left', bbox_to_anchor=(1, 0.5))\n",
    "plt.title('Market Shares')\n",
    "plt.show()"
   ]
  },
  {
   "cell_type": "markdown",
   "metadata": {},
   "source": [
    "Based on the data, it appears Nintendo has continually been consistent with their product sells. However, Sony seems to have taken a large share of the market place during the 2000s. Sometime after the 1980's, Atari vanishes from the market place. And right before the new millenium, Sega steps out the console wars. Only Nintendo, Sony and Microsoft continue to stay relevant. Let's only focus on these three companies from now on."
   ]
  },
  {
   "cell_type": "code",
   "execution_count": null,
   "metadata": {
    "execution": {
     "iopub.execute_input": "2023-04-17T03:18:14.41648Z",
     "iopub.status.busy": "2023-04-17T03:18:14.415682Z",
     "iopub.status.idle": "2023-04-17T03:18:14.756519Z",
     "shell.execute_reply": "2023-04-17T03:18:14.755321Z",
     "shell.execute_reply.started": "2023-04-17T03:18:14.416383Z"
    }
   },
   "outputs": [],
   "source": [
    "import random\n",
    "import matplotlib.pyplot as plt\n",
    "\n",
    "top_selling_companies = df.groupby('company')['units_sold'].sum().sort_values(ascending=False)\n",
    "top_five_companies = top_selling_companies.keys()[:5]\n",
    "for company_name in top_five_companies:\n",
    "    game_company = df[df['company'] == company_name]\n",
    "    df_by_year = game_company.sort_values(by='release_year')\n",
    "    x = df_by_year['release_year'].to_numpy()\n",
    "    y = df_by_year['units_sold'].to_numpy()\n",
    "    plt.bar(x, y, label=company_name)\n",
    "plt.legend(bbox_to_anchor=(1.0, 1.025), loc='upper left')\n",
    "plt.title('Units Sold by Year for Top 5 companies')\n",
    "plt.xlabel('Release Year')\n",
    "plt.ylabel('Units Sold (million)')\n",
    "plt.show()"
   ]
  },
  {
   "cell_type": "markdown",
   "metadata": {},
   "source": [
    "### Types of Units Sold\n",
    "Here are some interesting insights. Nintendo has the most diverse catalog of products. Sony has handheld devices, but the large majority of poducts sold are in the home domain. We can conclude that it may not be fair to only compare Nintendo by it's Home consoles since a majority of their products fall into the handheld area."
   ]
  },
  {
   "cell_type": "code",
   "execution_count": null,
   "metadata": {
    "execution": {
     "iopub.execute_input": "2023-04-17T03:18:14.758769Z",
     "iopub.status.busy": "2023-04-17T03:18:14.757872Z",
     "iopub.status.idle": "2023-04-17T03:18:15.128712Z",
     "shell.execute_reply": "2023-04-17T03:18:15.127383Z",
     "shell.execute_reply.started": "2023-04-17T03:18:14.758732Z"
    }
   },
   "outputs": [],
   "source": [
    "df_top_three = df[df.apply(lambda row: row['company'] in ['Sony', 'Nintendo', 'Microsoft'], axis=1)]\n",
    "units_by_type = df_top_three.groupby(['company', 'type'])['units_sold'].sum().reset_index()\n",
    "fig, axes = plt.subplots(3,1,figsize=(3,10))\n",
    "axes = axes.flatten()\n",
    "for i, company_name in enumerate(df_top_three['company'].unique()):\n",
    "    company = units_by_type[units_by_type['company'] == company_name]\n",
    "    axes[i].pie(company['units_sold'].to_numpy(), autopct='%1.1f%%')\n",
    "    axes[i].legend(company['type'].to_numpy(), title='Product Types', loc='center left', bbox_to_anchor=(1, 0.5))\n",
    "    axes[i].set_title(company_name)\n",
    "plt.show()"
   ]
  },
  {
   "cell_type": "markdown",
   "metadata": {},
   "source": [
    "# Top 10 Consoles\n",
    "When we sort the dataframe by *units_sold*, it looks as though Sony may indeed have some of the best selling consoles on the market. However, if we check by each decade it reveals a different story."
   ]
  },
  {
   "cell_type": "code",
   "execution_count": null,
   "metadata": {
    "execution": {
     "iopub.execute_input": "2023-04-17T03:18:15.130787Z",
     "iopub.status.busy": "2023-04-17T03:18:15.13039Z",
     "iopub.status.idle": "2023-04-17T03:18:15.146998Z",
     "shell.execute_reply": "2023-04-17T03:18:15.145686Z",
     "shell.execute_reply.started": "2023-04-17T03:18:15.130751Z"
    }
   },
   "outputs": [],
   "source": [
    "df_top_three.sort_values(by='units_sold', ascending=False)[:10]"
   ]
  },
  {
   "cell_type": "markdown",
   "metadata": {},
   "source": [
    "We can disregard 1970 and 1980 since only Nintendo existed in that era. Based on consoles alone, Sony is a dominante force in the home console category. However, if we also take into account product sales for every decade, Nintendo wins hands down. Microsoft barely makes a mark in sales but to be fair their catalog is fairly small."
   ]
  },
  {
   "cell_type": "code",
   "execution_count": null,
   "metadata": {
    "execution": {
     "iopub.execute_input": "2023-04-17T03:18:15.149236Z",
     "iopub.status.busy": "2023-04-17T03:18:15.148871Z",
     "iopub.status.idle": "2023-04-17T03:18:15.673882Z",
     "shell.execute_reply": "2023-04-17T03:18:15.672618Z",
     "shell.execute_reply.started": "2023-04-17T03:18:15.149176Z"
    }
   },
   "outputs": [],
   "source": [
    "df_by_decade_units = df_top_three.sort_values(by=['decade', 'units_sold'], ascending=False)\n",
    "\n",
    "gs = plt.GridSpec(2,2, hspace=1.8, wspace=1.4)\n",
    "colors = {\n",
    "    'Home': 'red',\n",
    "    'Handheld': 'blue',\n",
    "    'Hybrid': 'purple'\n",
    "}\n",
    "for i, decade in enumerate(df_by_decade_units['decade'].unique()[:4]):\n",
    "    ax = plt.subplot(gs[i])\n",
    "    # Get the sells for each decades\n",
    "    units_by_decade = df_by_decade_units[df_by_decade_units['decade'] == decade]\n",
    "    y = units_by_decade['units_sold'].to_numpy()[:5]\n",
    "    x = np.arange(len(y))\n",
    "    # Setup bar colors\n",
    "    product_types = units_by_decade['type'].to_numpy()[:5]\n",
    "    product_colors = [colors[t] for t in product_types]\n",
    "    legend_colors = []\n",
    "    colors_found = set()\n",
    "    # Sort out duplicate colors in a list\n",
    "    # Using for loop to keep the list order. A set will not keep the item order\n",
    "    for i in range(len(product_colors)):\n",
    "        color = product_colors[i]\n",
    "        if color not in colors_found:\n",
    "            legend_colors.append(plt.Rectangle((0,0), 1, 1, color=color))\n",
    "            colors_found.add(color)\n",
    "    ax.bar(x, y, color=product_colors)\n",
    "    ax.legend(legend_colors, product_types, title='Product Types', loc='center left', bbox_to_anchor=(1, 0.5))\n",
    "    ax.set_xticks(x, labels=units_by_decade['console'].to_numpy()[:5], rotation=85)\n",
    "    ax.set_title(decade)\n",
    "    ax.set_ylabel('Units Sold (million)')\n",
    "plt.show()"
   ]
  },
  {
   "cell_type": "code",
   "execution_count": null,
   "metadata": {
    "execution": {
     "iopub.execute_input": "2023-04-17T03:18:15.676567Z",
     "iopub.status.busy": "2023-04-17T03:18:15.675747Z",
     "iopub.status.idle": "2023-04-17T03:18:16.00347Z",
     "shell.execute_reply": "2023-04-17T03:18:16.002115Z",
     "shell.execute_reply.started": "2023-04-17T03:18:15.676517Z"
    }
   },
   "outputs": [],
   "source": [
    "df_by_decade_units = df_top_three.sort_values(by=['decade', 'units_sold'], ascending=False)\n",
    "fig = plt.Figure(figsize=(10, 10))\n",
    "gs = plt.GridSpec(2,2, hspace=1.8, wspace=1.2)\n",
    "for i, decade in enumerate(df_by_decade_units['decade'].unique()[:4]):\n",
    "    ax = plt.subplot(gs[i])\n",
    "    units_by_decade = df_by_decade_units[df_by_decade_units['decade'] == decade]\n",
    "    units_by_decade = units_by_decade.groupby('company')['units_sold'].sum().reset_index()\n",
    "    y = units_by_decade['units_sold'].to_numpy()[:5]\n",
    "    x = np.arange(len(y))\n",
    "\n",
    "    ax.bar(x, y)\n",
    "    ax.set_xticks(x, labels=units_by_decade['company'].to_numpy()[:5], rotation=85)\n",
    "    ax.set_title(decade)\n",
    "    ax.set_ylabel('Units Sold (million)')\n",
    "plt.show()"
   ]
  },
  {
   "cell_type": "markdown",
   "metadata": {},
   "source": [
    "### Nintendo's Sell Consistency\n",
    "This is more of a bonus to show the sells spread across the two main product types for Nintendo: Handheld and Home. Because Hybrid is more of a home console with handheld capabilities, we rename the type as Home. We will use a a violin plot to show the mean and distribution of unit sells for these two device types.<br><br>\n",
    "We can see by the wide width of the violins that most handhelds sold around 60 to 80 million. The thinner the width gets, the fewer consoles have sold in those numbers. This makes sense. Handhelds have always been Nintendos bread and butter, but the Nintendo DS definitely surpassed all previous handhelds by a long shot. This is why the top of the violin is so thin.<br><br>\n",
    "The distribution for the home console is much more consistent. This means the unit sales don't stray far away from the mean.\n",
    "> The mean is represented by the horizontal line in the middle!"
   ]
  },
  {
   "cell_type": "code",
   "execution_count": null,
   "metadata": {
    "execution": {
     "iopub.execute_input": "2023-04-17T03:18:16.00762Z",
     "iopub.status.busy": "2023-04-17T03:18:16.006783Z",
     "iopub.status.idle": "2023-04-17T03:18:16.344627Z",
     "shell.execute_reply": "2023-04-17T03:18:16.343298Z",
     "shell.execute_reply.started": "2023-04-17T03:18:16.007564Z"
    }
   },
   "outputs": [],
   "source": [
    "nintendo = df[df['company'] == 'Nintendo'].reset_index(drop=True)\n",
    "nintendo.loc[nintendo['type'] == 'Hybrid', 'type'] = 'Home'\n",
    "nintendo_home_consoles = nintendo[nintendo['type'] == 'Home']\n",
    "nintendo_handheld_consoles = nintendo[(nintendo['type'] == 'Handheld') & (nintendo['release_year'] > 1980)]\n",
    "nintendo_handheld_consoles\n",
    "# Plot violin plot\n",
    "plt.figure(figsize=(12,4))\n",
    "ax = plt.subplot(1,2,1)\n",
    "ax.violinplot(\n",
    "    [nintendo_handheld_consoles['units_sold'], nintendo_home_consoles['units_sold']],\n",
    "    showmeans=True,\n",
    "    showextrema=True,\n",
    "    widths=0.4\n",
    ")\n",
    "ax.set_xticks([1,2], labels=['Handheld', 'Home'])\n",
    "ax.set_ylabel('Units Sold (millions)')\n",
    "ax.set_title('Nintendo Sell Distribution')\n",
    "# Plot bar graph\n",
    "nintendo_sorted = nintendo[\n",
    "    ((nintendo['type'] == 'Handheld') | (nintendo['type'] == 'Home')) & (nintendo['release_year'] > 1980)\n",
    "].sort_values(by='units_sold')\n",
    "y = nintendo_sorted['units_sold'].to_numpy()\n",
    "x = np.arange(len(y))\n",
    "ax = plt.subplot(1,2,2)\n",
    "ax.bar(x, y)\n",
    "ax.set_title('Top Selling Consoles')\n",
    "ax.set_ylabel('Units Sold (millions)')\n",
    "ax.set_xticks(x, labels=nintendo_sorted['console'].to_numpy(), rotation=80)\n",
    "plt.subplots_adjust(wspace=1.2)\n",
    "plt.show()"
   ]
  },
  {
   "cell_type": "markdown",
   "metadata": {},
   "source": [
    "# Conclusion\n",
    "Sony is the preferred console based on these statistics. Although Sony wins the console wars, Nintendo clearly is the best overall as a company and remains consistent through every decade. Nintendo doesn't have anyone competing with their handheld devices. All in all, this is a great example of using data to come to a satisfactory conclusion about an industry you may not know much about. Seeing the data visually also gives you a better representation of where to focus your anaylsis. Focusing on each decade gave us more insight rather than relying on total sales all together.\n"
   ]
  }
 ],
 "metadata": {
  "kernelspec": {
   "display_name": "Python 3 (ipykernel)",
   "language": "python",
   "name": "python3"
  },
  "language_info": {
   "codemirror_mode": {
    "name": "ipython",
    "version": 3
   },
   "file_extension": ".py",
   "mimetype": "text/x-python",
   "name": "python",
   "nbconvert_exporter": "python",
   "pygments_lexer": "ipython3",
   "version": "3.9.12"
  }
 },
 "nbformat": 4,
 "nbformat_minor": 4
}
